{
 "cells": [
  {
   "cell_type": "code",
   "execution_count": 3,
   "metadata": {},
   "outputs": [
    {
     "data": {
      "text/plain": [
       "'/workspaces/End-End-Text-summeriser'"
      ]
     },
     "execution_count": 3,
     "metadata": {},
     "output_type": "execute_result"
    }
   ],
   "source": [
    "%pwd"
   ]
  },
  {
   "cell_type": "code",
   "execution_count": 2,
   "metadata": {},
   "outputs": [],
   "source": [
    "# change working directory to root directory\n",
    "import os\n",
    "os.chdir(\"../\")"
   ]
  },
  {
   "cell_type": "code",
   "execution_count": null,
   "metadata": {},
   "outputs": [],
   "source": [
    "# update the config/config.yaml file for data transformation \n",
    "# convert original data into \n",
    "# #input_id (tokenization, input_encoding), \n",
    "# attention_mask (tokenization, input_encoding), \n",
    "# labels (tokenization, target_encoding)."
   ]
  },
  {
   "cell_type": "code",
   "execution_count": null,
   "metadata": {},
   "outputs": [],
   "source": [
    "# 3. define the entity"
   ]
  },
  {
   "cell_type": "code",
   "execution_count": 4,
   "metadata": {},
   "outputs": [],
   "source": [
    "from dataclasses import dataclass\n",
    "from pathlib import Path\n",
    "\n",
    "\n",
    "@dataclass(frozen=True)\n",
    "class DataTransformationConfig:\n",
    "    root_dir: Path # root directory for data transformation\n",
    "    data_path: Path # path to the original data used for data transformation\n",
    "    tokenizer_name: Path # path to the tokenizer used for data transformation, model will be automatically downloaded."
   ]
  },
  {
   "cell_type": "code",
   "execution_count": null,
   "metadata": {},
   "outputs": [],
   "source": [
    "# 4. configuration manager in src config."
   ]
  },
  {
   "cell_type": "code",
   "execution_count": 6,
   "metadata": {},
   "outputs": [],
   "source": [
    "from textSummerizer.constants import *\n",
    "from textSummerizer.utils.common import read_yaml, create_directories"
   ]
  },
  {
   "cell_type": "code",
   "execution_count": 7,
   "metadata": {},
   "outputs": [],
   "source": [
    "class ConfigurationManager:\n",
    "\n",
    "    #constructor assigning values from constant file to the class variables\n",
    "\n",
    "\n",
    "    def __init__(\n",
    "        self,\n",
    "        config_filepath = CONFIG_FILE_PATH,\n",
    "        params_filepath = PARAMS_FILE_PATH):\n",
    "\n",
    "        # reading yaml config file and params file and assigning them to the class variables\n",
    "\n",
    "        self.config = read_yaml(config_filepath)\n",
    "        self.params = read_yaml(params_filepath)\n",
    "\n",
    "        # create directories/file for artifacts\n",
    "        # note that we are using . to access, as we have defined using configbox\n",
    "\n",
    "        create_directories([self.config.artifacts_root])\n",
    "\n",
    "\n",
    "    # user defined functions with parameters returned type are based on the decorator function defined in above cell\n",
    "    # returns the 3 variables\n",
    "    def get_data_transformation_config(self) -> DataTransformationConfig:\n",
    "        config = self.config.data_transformation\n",
    "\n",
    "        create_directories([config.root_dir]) # create directories for data transformation\n",
    "\n",
    "        data_transformation_config = DataTransformationConfig(\n",
    "            root_dir=config.root_dir,\n",
    "            data_path=config.data_path,\n",
    "            tokenizer_name = config.tokenizer_name\n",
    "        )\n",
    "\n",
    "        return data_transformation_config"
   ]
  },
  {
   "cell_type": "code",
   "execution_count": null,
   "metadata": {},
   "outputs": [],
   "source": [
    "#5. components"
   ]
  },
  {
   "cell_type": "code",
   "execution_count": 10,
   "metadata": {},
   "outputs": [],
   "source": [
    "import os\n",
    "from textSummerizer.logging import logger\n",
    "from transformers import AutoTokenizer\n",
    "from datasets import load_dataset, load_from_disk"
   ]
  },
  {
   "cell_type": "code",
   "execution_count": 19,
   "metadata": {},
   "outputs": [],
   "source": [
    "class DataTransformation:\n",
    "    def __init__(self, config: DataTransformationConfig):\n",
    "        self.config = config # initialize the config object\n",
    "        self.tokenizer = AutoTokenizer.from_pretrained(config.tokenizer_name) # initialize the tokenizer object\n",
    "\n",
    "\n",
    "    \n",
    "    def convert_examples_to_features(self,example_batch):\n",
    "        input_encodings = self.tokenizer(example_batch['dialogue'] , max_length = 1024, truncation = True )\n",
    "        \n",
    "        with self.tokenizer.as_target_tokenizer():\n",
    "            target_encodings = self.tokenizer(example_batch['summary'], max_length = 128, truncation = True )\n",
    "            \n",
    "        return {\n",
    "            'input_ids' : input_encodings['input_ids'],\n",
    "            'attention_mask': input_encodings['attention_mask'],\n",
    "            'labels': target_encodings['input_ids']\n",
    "        }\n",
    "    \n",
    "    # function to load the data from disk, convert, and save the data to disk\n",
    "\n",
    "    def convert(self):\n",
    "        logger.info(f\"Loading data from {self.config.data_path}\")\n",
    "        dataset_samsum = load_from_disk(self.config.data_path)\n",
    "        logger.info(f\"Loaded train:{len(dataset_samsum['train'])},test:{len(dataset_samsum['test'])},validation:{len(dataset_samsum['validation'])} examples\")\n",
    "        dataset_samsum_pt = dataset_samsum.map(self.convert_examples_to_features, batched = True)\n",
    "        logger.info(f\"Transformed train:{len(dataset_samsum['train'])},test:{len(dataset_samsum['test'])},validation:{len(dataset_samsum['validation'])} examples\")\n",
    "        dataset_samsum_pt.save_to_disk(os.path.join(self.config.root_dir,\"samsum_dataset\"))\n",
    "        logger.info(f\"Saved train:{len(dataset_samsum['train'])},test:{len(dataset_samsum['test'])},validation:{len(dataset_samsum['validation'])} examples to {self.config.root_dir}/samsum_dataset\")"
   ]
  },
  {
   "cell_type": "code",
   "execution_count": null,
   "metadata": {},
   "outputs": [],
   "source": [
    "# 6. pipeline"
   ]
  },
  {
   "cell_type": "code",
   "execution_count": 20,
   "metadata": {},
   "outputs": [
    {
     "name": "stdout",
     "output_type": "stream",
     "text": [
      "[2024-03-19 01:39:01,415: INFO: common: yaml file: config/config.yaml loaded successfully]\n",
      "[2024-03-19 01:39:01,417: INFO: common: yaml file: params.yaml loaded successfully]\n",
      "[2024-03-19 01:39:01,418: INFO: common: created directory at: artifacts]\n",
      "[2024-03-19 01:39:01,419: INFO: common: created directory at: artifacts/data_transformation]\n",
      "[2024-03-19 01:39:02,264: INFO: 2754396705: Loading data from artifacts/data_ingestion/samsum_dataset]\n",
      "[2024-03-19 01:39:02,271: INFO: 2754396705: Loaded train:14732,test:819,validation:818 examples]\n"
     ]
    },
    {
     "name": "stderr",
     "output_type": "stream",
     "text": [
      "Map: 100%|██████████| 14732/14732 [00:05<00:00, 2705.23 examples/s]\n",
      "Map: 100%|██████████| 819/819 [00:00<00:00, 2802.93 examples/s]\n",
      "Map: 100%|██████████| 818/818 [00:00<00:00, 2414.43 examples/s]"
     ]
    },
    {
     "name": "stdout",
     "output_type": "stream",
     "text": [
      "[2024-03-19 01:39:08,414: INFO: 2754396705: Transformed train:14732,test:819,validation:818 examples]\n"
     ]
    },
    {
     "name": "stderr",
     "output_type": "stream",
     "text": [
      "\n",
      "Saving the dataset (1/1 shards): 100%|██████████| 14732/14732 [00:00<00:00, 186535.63 examples/s]\n",
      "Saving the dataset (1/1 shards): 100%|██████████| 819/819 [00:00<00:00, 99115.21 examples/s] \n",
      "Saving the dataset (1/1 shards): 100%|██████████| 818/818 [00:00<00:00, 97226.84 examples/s] "
     ]
    },
    {
     "name": "stdout",
     "output_type": "stream",
     "text": [
      "[2024-03-19 01:39:08,526: INFO: 2754396705: Saved train:14732,test:819,validation:818 examples to artifacts/data_transformation/samsum_dataset]\n"
     ]
    },
    {
     "name": "stderr",
     "output_type": "stream",
     "text": [
      "\n"
     ]
    }
   ],
   "source": [
    "try:\n",
    "    config = ConfigurationManager() # initialize the configuration manager object\n",
    "    data_transformation_config = config.get_data_transformation_config() # initialize the data transformation config object\n",
    "    data_transformation = DataTransformation(config=data_transformation_config) # initialize the data transformation object\n",
    "    data_transformation.convert() # run the data transformation\n",
    "except Exception as e:\n",
    "    raise e"
   ]
  },
  {
   "cell_type": "code",
   "execution_count": null,
   "metadata": {},
   "outputs": [],
   "source": [
    "# pipeline created successfully for data transformation, can be verified under artifacts/data_transformation/samsum_dataset\n",
    "# Update components for data validation in the src folder."
   ]
  }
 ],
 "metadata": {
  "kernelspec": {
   "display_name": "Python 3",
   "language": "python",
   "name": "python3"
  },
  "language_info": {
   "codemirror_mode": {
    "name": "ipython",
    "version": 3
   },
   "file_extension": ".py",
   "mimetype": "text/x-python",
   "name": "python",
   "nbconvert_exporter": "python",
   "pygments_lexer": "ipython3",
   "version": "3.10.13"
  }
 },
 "nbformat": 4,
 "nbformat_minor": 2
}
